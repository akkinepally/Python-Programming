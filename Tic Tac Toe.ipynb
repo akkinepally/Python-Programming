{
 "cells": [
  {
   "cell_type": "code",
   "execution_count": 1,
   "metadata": {},
   "outputs": [],
   "source": [
    "board = [0, 1, 2, 3, 4, 5, 6, 7, 8]"
   ]
  },
  {
   "cell_type": "code",
   "execution_count": 2,
   "metadata": {},
   "outputs": [
    {
     "data": {
      "text/plain": [
       "list"
      ]
     },
     "execution_count": 2,
     "metadata": {},
     "output_type": "execute_result"
    }
   ],
   "source": [
    "type(board)"
   ]
  },
  {
   "cell_type": "code",
   "execution_count": 3,
   "metadata": {},
   "outputs": [],
   "source": [
    "def tictactoe_draw():\n",
    "    print(board[0], board[1], board[2])\n",
    "    print(board[3], board[4], board[5])\n",
    "    print(board[6], board[7], board[8])\n",
    "    print()"
   ]
  },
  {
   "cell_type": "code",
   "execution_count": 4,
   "metadata": {},
   "outputs": [
    {
     "name": "stdout",
     "output_type": "stream",
     "text": [
      "0 1 2\n",
      "3 4 5\n",
      "6 7 8\n",
      "\n"
     ]
    }
   ],
   "source": [
    "tictactoe_draw()"
   ]
  },
  {
   "cell_type": "code",
   "execution_count": 5,
   "metadata": {},
   "outputs": [],
   "source": [
    "def player_1():\n",
    "    print(\"player #1: Enter a desired location on the board: \")\n",
    "    location = int(input())\n",
    "    if board[location] != 'X' and board[location] != 'O':\n",
    "        board[location] = 'X'\n",
    "    else:\n",
    "        print('The desired location is already filled please choose another location')\n",
    "        \n",
    "        \n"
   ]
  },
  {
   "cell_type": "code",
   "execution_count": 6,
   "metadata": {},
   "outputs": [
    {
     "name": "stdout",
     "output_type": "stream",
     "text": [
      "player #1: Enter a desired location on the board: \n",
      "0\n",
      "X 1 2\n",
      "3 4 5\n",
      "6 7 8\n",
      "\n"
     ]
    }
   ],
   "source": [
    "player_1()\n",
    "tictactoe_draw()"
   ]
  },
  {
   "cell_type": "code",
   "execution_count": 8,
   "metadata": {},
   "outputs": [],
   "source": [
    "def player_2():\n",
    "    print(\"Player #2: Enter a desired location on the board: \")\n",
    "    location= int(input())\n",
    "    if board[location] != 'X' and board[location] != 'O':\n",
    "        board[location] = 'O'\n",
    "    else:\n",
    "        print('the desired location is already filled, please choose some other location')"
   ]
  },
  {
   "cell_type": "code",
   "execution_count": 9,
   "metadata": {},
   "outputs": [
    {
     "name": "stdout",
     "output_type": "stream",
     "text": [
      "Player #2: Enter a desired location on the board: \n",
      "1\n",
      "X O 2\n",
      "3 4 5\n",
      "6 7 8\n",
      "\n"
     ]
    }
   ],
   "source": [
    "player_2()\n",
    "tictactoe_draw()"
   ]
  },
  {
   "cell_type": "code",
   "execution_count": 10,
   "metadata": {},
   "outputs": [],
   "source": [
    "def check_winner(X_or_O):\n",
    "    if board[0] == X_or_O and board[1] == X_or_O and board[2] == X_or_O:\n",
    "        return True\n",
    "    elif board[3] == X_or_O and board[4] == X_or_O and board[5] == X_or_O:\n",
    "        return True\n",
    "    elif board[6] == X_or_O and board[7] == X_or_O and board[8] == X_or_O:\n",
    "        return True0\n",
    "    elif board[0] == X_or_O and board[3] == X_or_O and board[6] == X_or_O:\n",
    "        return True\n",
    "    elif board[1] == X_or_O and board[4] == X_or_O and board[7] == X_or_O:\n",
    "        return True\n",
    "    elif board[2] == X_or_O and board[5] == X_or_O and board[8] == X_or_O:\n",
    "        return True\n",
    "    elif board[0] == X_or_O and board[4] == X_or_O and board[8] == X_or_O:\n",
    "        return True\n",
    "    elif board[2] == X_or_O and board[4] == X_or_O and board[6] == X_or_O:\n",
    "        return True"
   ]
  },
  {
   "cell_type": "code",
   "execution_count": 11,
   "metadata": {},
   "outputs": [
    {
     "name": "stdout",
     "output_type": "stream",
     "text": [
      "player #1: Enter a desired location on the board: \n",
      "2\n",
      "X O X\n",
      "3 4 5\n",
      "6 7 8\n",
      "\n",
      "Player #2: Enter a desired location on the board: \n",
      "4\n",
      "X O X\n",
      "3 O 5\n",
      "6 7 8\n",
      "\n",
      "player #1: Enter a desired location on the board: \n",
      "3\n",
      "X O X\n",
      "X O 5\n",
      "6 7 8\n",
      "\n",
      "Player #2: Enter a desired location on the board: \n",
      "7\n",
      "X O X\n",
      "X O 5\n",
      "6 O 8\n",
      "\n",
      "Player #2 Wins\n"
     ]
    }
   ],
   "source": [
    "while True:\n",
    "    player_1()\n",
    "    tictactoe_draw()\n",
    "    if check_winner('X') == True:\n",
    "        print('Player #1 Wins')\n",
    "        break\n",
    "        \n",
    "    player_2()\n",
    "    tictactoe_draw()\n",
    "    if check_winner('O') == True:\n",
    "        print('Player #2 Wins')\n",
    "        break\n",
    "        "
   ]
  }
 ],
 "metadata": {
  "kernelspec": {
   "display_name": "Python 3",
   "language": "python",
   "name": "python3"
  },
  "language_info": {
   "codemirror_mode": {
    "name": "ipython",
    "version": 3
   },
   "file_extension": ".py",
   "mimetype": "text/x-python",
   "name": "python",
   "nbconvert_exporter": "python",
   "pygments_lexer": "ipython3",
   "version": "3.6.5"
  }
 },
 "nbformat": 4,
 "nbformat_minor": 2
}
