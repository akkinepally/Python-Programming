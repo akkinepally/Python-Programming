{
 "cells": [
  {
   "cell_type": "code",
   "execution_count": 4,
   "metadata": {},
   "outputs": [],
   "source": [
    "import getpass\n",
    "username = 'planner'\n",
    "password = 'planner'"
   ]
  },
  {
   "cell_type": "code",
   "execution_count": 5,
   "metadata": {},
   "outputs": [],
   "source": [
    "def day_planner(time):\n",
    "    daily_task = {10 : 'Practice python, Library', 12 : 'Apply jobs, library', 2 : 'Lunch break, canteen'}\n",
    "    for task_time in daily_task.keys():\n",
    "        if time == task_time:\n",
    "            print(' you should', daily_task[task_time])"
   ]
  },
  {
   "cell_type": "code",
   "execution_count": 6,
   "metadata": {},
   "outputs": [
    {
     "name": "stdout",
     "output_type": "stream",
     "text": [
      "enter username: planner\n",
      "enter password: ········\n",
      "access is granted...welcome to the system\n",
      "Enter the time in 24 hour format: 10\n",
      " you should Practice python, Library\n",
      "\n",
      "Lecture Notes\n",
      "Date: 2016/10/25\n",
      "Professor: Mitch Robert\n",
      "Lecture 1: Programming Basics\n",
      "\n",
      "Coding Exercise #1\n",
      "kmh = int(input(\"Enter speed in km/h: \"))\n",
      "mph =  0.6214 * kmh\n",
      "print(\"Speed in Km per hour =\", kmh, \"KM/H\")\n",
      "print(\"Speed in Miles per hour =\", mph, \"MPH\")\n"
     ]
    }
   ],
   "source": [
    "input_User = input('enter username: ')\n",
    "input_password = getpass.getpass('enter password: ')\n",
    "if username == input_User and password == input_password:\n",
    "    print('access is granted...welcome to the system')\n",
    "    time = float(input('Enter the time in 24 hour format: '))\n",
    "    day_planner(time)\n",
    "    file = open('Lecture_Notes.txt')\n",
    "    print(file.read())\n",
    "else:\n",
    "    print('Credentials are incorrect')"
   ]
  },
  {
   "cell_type": "code",
   "execution_count": null,
   "metadata": {},
   "outputs": [],
   "source": []
  },
  {
   "cell_type": "code",
   "execution_count": null,
   "metadata": {},
   "outputs": [],
   "source": []
  },
  {
   "cell_type": "code",
   "execution_count": null,
   "metadata": {},
   "outputs": [],
   "source": []
  },
  {
   "cell_type": "code",
   "execution_count": null,
   "metadata": {},
   "outputs": [],
   "source": []
  }
 ],
 "metadata": {
  "kernelspec": {
   "display_name": "Python 3",
   "language": "python",
   "name": "python3"
  },
  "language_info": {
   "codemirror_mode": {
    "name": "ipython",
    "version": 3
   },
   "file_extension": ".py",
   "mimetype": "text/x-python",
   "name": "python",
   "nbconvert_exporter": "python",
   "pygments_lexer": "ipython3",
   "version": "3.6.5"
  }
 },
 "nbformat": 4,
 "nbformat_minor": 2
}
