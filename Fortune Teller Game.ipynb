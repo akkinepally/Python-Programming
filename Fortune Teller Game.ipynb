{
 "cells": [
  {
   "cell_type": "code",
   "execution_count": 1,
   "metadata": {},
   "outputs": [],
   "source": [
    "# declare a variable \n",
    "answer = 'y'"
   ]
  },
  {
   "cell_type": "code",
   "execution_count": 4,
   "metadata": {},
   "outputs": [
    {
     "name": "stdout",
     "output_type": "stream",
     "text": [
      "choose a color from ['yellow', 'green', 'blue', 'red']: yellow\n",
      "select a number [1, 2, 5, 6]: 1\n",
      "abcdef\n",
      " Do you want to play again.... press y for yes and press n for noy\n",
      "choose a color from ['yellow', 'green', 'blue', 'red']: blue\n",
      "select a number[3, 4, 7, 8]: 4\n",
      "jffjskjfksa\n",
      " Do you want to play again.... press y for yes and press n for non\n"
     ]
    }
   ],
   "source": [
    "# loop \n",
    "while answer == 'y':\n",
    "    color = input(\"choose a color from ['yellow', 'green', 'blue', 'red']: \")\n",
    "# main loop for diff colors\n",
    "    if color == 'yellow' or color== 'green':\n",
    "        number = int(input(\"select a number [1, 2, 5, 6]: \"))\n",
    "# loop for diff numbers\n",
    "        if number == 1:\n",
    "            print(\"abcdef\")\n",
    "        elif number == 2:\n",
    "            print(\"ghijk\")\n",
    "        elif number == 5:\n",
    "               print(\"lmnop\")\n",
    "        elif number == 6:\n",
    "            print(\"qrstu\")\n",
    "        else:\n",
    "            print('only 1, 2, 5, 6 numbers are allowed')\n",
    "    elif color == 'blue' or color == 'red':\n",
    "        number = int(input('select a number[3, 4, 7, 8]: '))\n",
    "        if number == 3:\n",
    "            print(\"jfksfj\")\n",
    "        elif number == 4:\n",
    "            print(\"jffjskjfksa\")\n",
    "        elif number == 7:\n",
    "               print(\"fjkfjlajf\")\n",
    "        elif number == 8:\n",
    "            print(\"jsfjslfkl\")\n",
    "        else:\n",
    "            print('only 3, 4, 7, 8 numbers are allowed')\n",
    "    else:\n",
    "        print('Colors [yellow, green, blue, red] are only allowed')\n",
    "\n",
    "        \n",
    "    answer = input(\" Do you want to play again.... press y for yes and press n for no\")\n",
    "        \n",
    "            \n",
    "            "
   ]
  },
  {
   "cell_type": "code",
   "execution_count": null,
   "metadata": {},
   "outputs": [],
   "source": []
  },
  {
   "cell_type": "code",
   "execution_count": null,
   "metadata": {},
   "outputs": [],
   "source": []
  }
 ],
 "metadata": {
  "kernelspec": {
   "display_name": "Python 3",
   "language": "python",
   "name": "python3"
  }
 },
 "nbformat": 4,
 "nbformat_minor": 2
}
