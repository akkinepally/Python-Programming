{
 "cells": [
  {
   "cell_type": "code",
   "execution_count": 1,
   "metadata": {},
   "outputs": [
    {
     "name": "stdout",
     "output_type": "stream",
     "text": [
      "enter your day of year(ex:1990): 2013\n",
      "enter your month of birth(ex:10): 04\n",
      "enter your day of birth(ex:25): 16\n"
     ]
    }
   ],
   "source": [
    "year = date = input(\"enter your day of year(ex:1990): \")\n",
    "\n",
    "Month = input(\"enter your month of birth(ex:10): \")\n",
    "Day = input(\"enter your day of birth(ex:25): \")"
   ]
  },
  {
   "cell_type": "code",
   "execution_count": 3,
   "metadata": {},
   "outputs": [
    {
     "name": "stdout",
     "output_type": "stream",
     "text": [
      "your date of Birth is  16/04/2013\n"
     ]
    }
   ],
   "source": [
    "print('your date of Birth is ', (Day + '/' +Month + '/'+ year))"
   ]
  },
  {
   "cell_type": "code",
   "execution_count": 4,
   "metadata": {},
   "outputs": [],
   "source": [
    "from datetime import date\n",
    "today_date = date.today()\n",
    "# age = today - int(year)\n",
    "# print('you are', age, 'years old')"
   ]
  },
  {
   "cell_type": "code",
   "execution_count": 5,
   "metadata": {},
   "outputs": [
    {
     "data": {
      "text/plain": [
       "datetime.date(2018, 11, 19)"
      ]
     },
     "execution_count": 5,
     "metadata": {},
     "output_type": "execute_result"
    }
   ],
   "source": [
    "today_date"
   ]
  },
  {
   "cell_type": "code",
   "execution_count": 6,
   "metadata": {},
   "outputs": [],
   "source": [
    "age = today_date.year - int(year)"
   ]
  },
  {
   "cell_type": "code",
   "execution_count": 7,
   "metadata": {},
   "outputs": [
    {
     "data": {
      "text/plain": [
       "5"
      ]
     },
     "execution_count": 7,
     "metadata": {},
     "output_type": "execute_result"
    }
   ],
   "source": [
    "age"
   ]
  },
  {
   "cell_type": "code",
   "execution_count": 8,
   "metadata": {},
   "outputs": [
    {
     "name": "stdout",
     "output_type": "stream",
     "text": [
      "You are 5 years old\n"
     ]
    }
   ],
   "source": [
    "print('You are {} years old'.format(age))\n",
    "\n",
    "# print( 'you are', age, 'years old')"
   ]
  },
  {
   "cell_type": "code",
   "execution_count": 9,
   "metadata": {},
   "outputs": [
    {
     "name": "stdout",
     "output_type": "stream",
     "text": [
      "\n",
      " Aries\n"
     ]
    }
   ],
   "source": [
    "if ((int(Month)==12 and int(Day) >= 22) or (int(Month)==1 and int(Day)<= 19)):\n",
    "    sign = (\"\\n Capricorn\")\n",
    "elif ((int(Month)==1 and int(Day) >= 20)or(int(Month)==2 and int(Day)<= 18)):\n",
    "    sign = (\"\\n aquarius\")\n",
    "elif ((int(Month)==2 and int(Day) >= 19)or(int(Month)==3 and int(Day)<= 20)):\n",
    "    sign = (\"\\n Pisces\")\n",
    "elif ((int(Month)==3 and int(Day) >= 21)or(int(Month)==4 and int(Day)<= 19)):\n",
    "    sign = (\"\\n Aries\")\n",
    "elif ((int(Month)==4 and int(Day) >= 20)or(int(Month)==5 and int(Day)<= 20)):\n",
    "    sign = (\"\\n Taurus\")\n",
    "elif ((int(Month)==5 and int(Day) >= 21)or(int(Month)==6 and int(Day)<= 20)):\n",
    "    sign = (\"\\n Gemini\")\n",
    "elif ((int(Month)==6 and int(Day) >= 21)or(int(Month)==7 and int(Day)<= 22)):\n",
    "    sign = (\"\\n Cancer\")\n",
    "elif ((int(Month)==7 and int(Day) >= 23)or(int(Month)==8 and int(Day)<= 22)): \n",
    "    sign = (\"\\n Leo\")\n",
    "elif ((int(Month)==8 and int(Day) >= 23)or(int(Month)==9 and int(Day)<= 22)): \n",
    "    sign = (\"\\n Virgo\")\n",
    "elif ((int(Month)==9 and int(Day) >= 23)or(int(Month)==10 and int(Day)<= 22)):\n",
    "    sign = (\"\\n Libra\")\n",
    "elif ((int(Month)==10 and int(Day) >= 23)or(int(Month)==11 and int(Day)<= 21)): \n",
    "    sign = (\"\\n Scorpio\")\n",
    "elif ((int(Month)==11 and int(Day) >= 22)or(int(Month)==12 and int(Day)<= 21)):\n",
    "    sign = (\"\\n Sagittarius\")\n",
    "\n",
    "print(sign)"
   ]
  }
 ],
 "metadata": {
  "kernelspec": {
   "display_name": "Python 3",
   "language": "python",
   "name": "python3"
  },
  "language_info": {
   "codemirror_mode": {
    "name": "ipython",
    "version": 3
   },
   "file_extension": ".py",
   "mimetype": "text/x-python",
   "name": "python",
   "nbconvert_exporter": "python",
   "pygments_lexer": "ipython3",
   "version": "3.6.5"
  }
 },
 "nbformat": 4,
 "nbformat_minor": 2
}
